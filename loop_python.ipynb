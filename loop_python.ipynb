{
  "nbformat": 4,
  "nbformat_minor": 0,
  "metadata": {
    "colab": {
      "name": "loop python.ipynb",
      "provenance": [],
      "authorship_tag": "ABX9TyNBZePBX5cB3ooxZYHwjWjL",
      "include_colab_link": true
    },
    "kernelspec": {
      "name": "python3",
      "display_name": "Python 3"
    },
    "language_info": {
      "name": "python"
    }
  },
  "cells": [
    {
      "cell_type": "markdown",
      "metadata": {
        "id": "view-in-github",
        "colab_type": "text"
      },
      "source": [
        "<a href=\"https://colab.research.google.com/github/sanjaykurmi/pythone/blob/main/loop_python.ipynb\" target=\"_parent\"><img src=\"https://colab.research.google.com/assets/colab-badge.svg\" alt=\"Open In Colab\"/></a>"
      ]
    },
    {
      "cell_type": "code",
      "execution_count": null,
      "metadata": {
        "id": "OgAK3Ja-YGDK"
      },
      "outputs": [],
      "source": [
        "\n"
      ]
    },
    {
      "cell_type": "markdown",
      "source": [
        "### for loop"
      ],
      "metadata": {
        "id": "VVkvxb36GVK_"
      }
    },
    {
      "cell_type": "markdown",
      "source": [
        "name in this for statement is called the loop variable or, alternatively, the iterator variable.\n",
        "\n",
        "The list of names in the square brackets is the sequence over which we will iterate."
      ],
      "metadata": {
        "id": "BZ_bYOcoGext"
      }
    },
    {
      "cell_type": "markdown",
      "source": [
        "At the end of each execution of the body of the loop, Python returns to the for statement, to see if there are more items to be handled."
      ],
      "metadata": {
        "id": "WlanQSq8GmjO"
      }
    },
    {
      "cell_type": "markdown",
      "source": [
        ""
      ],
      "metadata": {
        "id": "4-c9H1ERGqul"
      }
    },
    {
      "cell_type": "code",
      "source": [
        "for achar in \"Go Spot Go\":\n",
        "    print(achar)"
      ],
      "metadata": {
        "colab": {
          "base_uri": "https://localhost:8080/"
        },
        "id": "tE_Bzve-GeJt",
        "outputId": "49b731e8-ea64-42a1-f2c6-5747418da133"
      },
      "execution_count": null,
      "outputs": [
        {
          "output_type": "stream",
          "name": "stdout",
          "text": [
            "G\n",
            "o\n",
            " \n",
            "S\n",
            "p\n",
            "o\n",
            "t\n",
            " \n",
            "G\n",
            "o\n"
          ]
        }
      ]
    },
    {
      "cell_type": "code",
      "source": [
        "s = \"python rocks\"\n",
        "for ch in s:\n",
        "   print(\"HELLO\")"
      ],
      "metadata": {
        "colab": {
          "base_uri": "https://localhost:8080/"
        },
        "id": "HpfM33HOGYLF",
        "outputId": "08051258-3fd3-474f-fa8b-0df8927eae31"
      },
      "execution_count": null,
      "outputs": [
        {
          "output_type": "stream",
          "name": "stdout",
          "text": [
            "HELLO\n",
            "HELLO\n",
            "HELLO\n",
            "HELLO\n",
            "HELLO\n",
            "HELLO\n",
            "HELLO\n",
            "HELLO\n",
            "HELLO\n",
            "HELLO\n",
            "HELLO\n",
            "HELLO\n"
          ]
        }
      ]
    },
    {
      "cell_type": "code",
      "source": [
        "s = \"python rocks\"\n",
        "for ch in s[3:8]:\n",
        "   print(\"HELLO\")"
      ],
      "metadata": {
        "colab": {
          "base_uri": "https://localhost:8080/"
        },
        "id": "osSA0RIxHM-9",
        "outputId": "18523f79-44b0-414f-93e4-f64df82487a6"
      },
      "execution_count": null,
      "outputs": [
        {
          "output_type": "stream",
          "name": "stdout",
          "text": [
            "HELLO\n",
            "HELLO\n",
            "HELLO\n",
            "HELLO\n",
            "HELLO\n"
          ]
        }
      ]
    },
    {
      "cell_type": "code",
      "source": [
        "fruits = [\"apple\", \"orange\", \"banana\", \"cherry\"]\n",
        "\n",
        "for afruit in fruits:     # by item\n",
        "    print(afruit)"
      ],
      "metadata": {
        "colab": {
          "base_uri": "https://localhost:8080/"
        },
        "id": "5AZAhyZ9HSuO",
        "outputId": "cd09bb59-5f82-4f38-9272-343dc9701b15"
      },
      "execution_count": null,
      "outputs": [
        {
          "output_type": "stream",
          "name": "stdout",
          "text": [
            "apple\n",
            "orange\n",
            "banana\n",
            "cherry\n"
          ]
        }
      ]
    },
    {
      "cell_type": "code",
      "source": [
        "print(\"This will execute first\")\n",
        "\n",
        "for _ in range(3):\n",
        "    print(\"This line will execute three times\")\n",
        "    print(\"This line will also execute three times\")\n",
        "\n",
        "print(\"Now we are outside of the for loop!\")\n"
      ],
      "metadata": {
        "colab": {
          "base_uri": "https://localhost:8080/"
        },
        "id": "mO9g0OboHXlF",
        "outputId": "03ed2410-ceb6-4dcd-c214-154a771f1b24"
      },
      "execution_count": null,
      "outputs": [
        {
          "output_type": "stream",
          "name": "stdout",
          "text": [
            "This will execute first\n",
            "This line will execute three times\n",
            "This line will also execute three times\n",
            "This line will execute three times\n",
            "This line will also execute three times\n",
            "This line will execute three times\n",
            "This line will also execute three times\n",
            "Now we are outside of the for loop!\n"
          ]
        }
      ]
    },
    {
      "cell_type": "code",
      "source": [
        "for name in [\"Joe\", \"Amy\", \"Brad\", \"Angelina\", \"Zuki\", \"Thandi\", \"Paris\"]:\n",
        "    print(\"Hi\", name, \"Please come to my party on Saturday!\")"
      ],
      "metadata": {
        "colab": {
          "base_uri": "https://localhost:8080/"
        },
        "id": "KAy9Mk60GOLA",
        "outputId": "ba0a89f9-20bb-4555-896b-47cb412c7514"
      },
      "execution_count": null,
      "outputs": [
        {
          "output_type": "stream",
          "name": "stdout",
          "text": [
            "Hi Joe Please come to my party on Saturday!\n",
            "Hi Amy Please come to my party on Saturday!\n",
            "Hi Brad Please come to my party on Saturday!\n",
            "Hi Angelina Please come to my party on Saturday!\n",
            "Hi Zuki Please come to my party on Saturday!\n",
            "Hi Thandi Please come to my party on Saturday!\n",
            "Hi Paris Please come to my party on Saturday!\n"
          ]
        }
      ]
    },
    {
      "cell_type": "code",
      "source": [
        "p = [3, 4, \"Me\", 3, [], \"Why\", 0, \"Tell\", 9.3]\n",
        "for ch in p:\n",
        "   print(ch)"
      ],
      "metadata": {
        "colab": {
          "base_uri": "https://localhost:8080/"
        },
        "id": "5JItN0t2He6t",
        "outputId": "f741253e-ffb1-4fcd-da5f-957584f4b5f7"
      },
      "execution_count": null,
      "outputs": [
        {
          "output_type": "stream",
          "name": "stdout",
          "text": [
            "3\n",
            "4\n",
            "Me\n",
            "3\n",
            "[]\n",
            "Why\n",
            "0\n",
            "Tell\n",
            "9.3\n"
          ]
        }
      ]
    },
    {
      "cell_type": "code",
      "source": [
        "nums = [1, 2, 3, 4, 5, 6, 7, 8, 9, 10]\n",
        "accum = 0\n",
        "for w in nums:\n",
        "    accum = accum + w\n",
        "print(accum)"
      ],
      "metadata": {
        "colab": {
          "base_uri": "https://localhost:8080/"
        },
        "id": "ysmDiOk7Hyi-",
        "outputId": "0791b812-4873-4dda-9de9-597c4d0a6e98"
      },
      "execution_count": null,
      "outputs": [
        {
          "output_type": "stream",
          "name": "stdout",
          "text": [
            "55\n"
          ]
        }
      ]
    },
    {
      "cell_type": "code",
      "source": [
        "print(\"range(5): \")\n",
        "for i in range(5):\n",
        "    print(i)\n",
        "\n",
        "print(\"range(0,5): \")\n",
        "for i in range(0, 5):\n",
        "    print(i)\n",
        "\n",
        "# Notice the casting of `range` to the `list`\n",
        "print(list(range(5)))\n",
        "print(list(range(0,5)))\n",
        "\n",
        "# Note: `range` function is already casted as `list` in the textbook\n",
        "print(range(5))\n"
      ],
      "metadata": {
        "colab": {
          "base_uri": "https://localhost:8080/"
        },
        "id": "oxiGQT26IK7y",
        "outputId": "d7df2f9b-fba7-4492-a958-157854da08c3"
      },
      "execution_count": null,
      "outputs": [
        {
          "output_type": "stream",
          "name": "stdout",
          "text": [
            "range(5): \n",
            "0\n",
            "1\n",
            "2\n",
            "3\n",
            "4\n",
            "range(0,5): \n",
            "0\n",
            "1\n",
            "2\n",
            "3\n",
            "4\n",
            "[0, 1, 2, 3, 4]\n",
            "[0, 1, 2, 3, 4]\n",
            "range(0, 5)\n"
          ]
        }
      ]
    },
    {
      "cell_type": "code",
      "source": [
        "accum = 0\n",
        "for w in range(11):\n",
        "    accum = accum + w\n",
        "print(accum)\n",
        "\n",
        "# or, if you use two inputs for the range function\n",
        "\n",
        "sec_accum = 0\n",
        "for w in range(1,11):\n",
        "    sec_accum = sec_accum + w\n",
        "print(sec_accum)"
      ],
      "metadata": {
        "colab": {
          "base_uri": "https://localhost:8080/"
        },
        "id": "Lz63AzCoIOiC",
        "outputId": "d9acb339-819b-4da2-9e30-e7a2d4a10197"
      },
      "execution_count": null,
      "outputs": [
        {
          "output_type": "stream",
          "name": "stdout",
          "text": [
            "55\n",
            "55\n"
          ]
        }
      ]
    },
    {
      "cell_type": "code",
      "source": [
        "nums = [1, 2, 3, 4, 5, 6, 7, 8, 9, 10]\n",
        "count = 0\n",
        "for w in nums:\n",
        "    count = count + 1\n",
        "print(count)\n"
      ],
      "metadata": {
        "colab": {
          "base_uri": "https://localhost:8080/"
        },
        "id": "24hwBPltISa6",
        "outputId": "267ac07e-a873-4bbd-f0de-11dd60efb933"
      },
      "execution_count": null,
      "outputs": [
        {
          "output_type": "stream",
          "name": "stdout",
          "text": [
            "10\n"
          ]
        }
      ]
    },
    {
      "cell_type": "code",
      "source": [
        "nums = [1, 2, 3, 4, 5, 6, 7, 8, 9, 10]\n",
        "for w in nums:\n",
        "   accum = 0\n",
        "   accum = accum + w\n",
        "print(accum)"
      ],
      "metadata": {
        "colab": {
          "base_uri": "https://localhost:8080/"
        },
        "id": "wV41ZEtEIWnT",
        "outputId": "4706b80a-ec1e-4c0e-dde2-c22418980423"
      },
      "execution_count": null,
      "outputs": [
        {
          "output_type": "stream",
          "name": "stdout",
          "text": [
            "10\n"
          ]
        }
      ]
    },
    {
      "cell_type": "code",
      "source": [
        "fruits = ['apple', 'pear', 'apricot', 'cherry', 'peach']\n",
        "for n in range(5):\n",
        "    print(n, fruits[n])"
      ],
      "metadata": {
        "colab": {
          "base_uri": "https://localhost:8080/"
        },
        "id": "HIVvFhxQIwTD",
        "outputId": "8102e53f-e7d3-49fd-d896-429e99717ca3"
      },
      "execution_count": null,
      "outputs": [
        {
          "output_type": "stream",
          "name": "stdout",
          "text": [
            "0 apple\n",
            "1 pear\n",
            "2 apricot\n",
            "3 cherry\n",
            "4 peach\n"
          ]
        }
      ]
    },
    {
      "cell_type": "code",
      "source": [
        "s = \"python\"\n",
        "for idx in range(len(s)):\n",
        "   print(s[idx % 2])"
      ],
      "metadata": {
        "colab": {
          "base_uri": "https://localhost:8080/"
        },
        "id": "U1rS5uhjI2dE",
        "outputId": "38f8f2cd-e060-47c1-91f7-9bb9c45e0b54"
      },
      "execution_count": null,
      "outputs": [
        {
          "output_type": "stream",
          "name": "stdout",
          "text": [
            "p\n",
            "y\n",
            "p\n",
            "y\n",
            "p\n",
            "y\n"
          ]
        }
      ]
    },
    {
      "cell_type": "code",
      "source": [
        "for i in range(5):\n",
        "    for j in range(3):\n",
        "        print(i, j)\n"
      ],
      "metadata": {
        "colab": {
          "base_uri": "https://localhost:8080/"
        },
        "id": "flRTCWIpJKRj",
        "outputId": "d6e65943-accf-4221-ea2d-13fe702b309e"
      },
      "execution_count": null,
      "outputs": [
        {
          "output_type": "stream",
          "name": "stdout",
          "text": [
            "0 0\n",
            "0 1\n",
            "0 2\n",
            "1 0\n",
            "1 1\n",
            "1 2\n",
            "2 0\n",
            "2 1\n",
            "2 2\n",
            "3 0\n",
            "3 1\n",
            "3 2\n",
            "4 0\n",
            "4 1\n",
            "4 2\n"
          ]
        }
      ]
    },
    {
      "cell_type": "code",
      "source": [
        "w = range(10)\n",
        "\n",
        "tot = 0\n",
        "for num in w:\n",
        "    tot += num\n",
        "print(tot)"
      ],
      "metadata": {
        "colab": {
          "base_uri": "https://localhost:8080/"
        },
        "id": "gGptSf7cJeEL",
        "outputId": "776642c6-abf1-4d91-e5e2-69dd98a89770"
      },
      "execution_count": null,
      "outputs": [
        {
          "output_type": "stream",
          "name": "stdout",
          "text": [
            "45\n"
          ]
        }
      ]
    },
    {
      "cell_type": "code",
      "source": [
        "w = range(10)\n",
        "\n",
        "tot = 0\n",
        "for num in w:\n",
        "    print(num)\n",
        "    tot += num\n",
        "print(tot)"
      ],
      "metadata": {
        "colab": {
          "base_uri": "https://localhost:8080/"
        },
        "id": "bUFz8naGJiIz",
        "outputId": "6a450b02-4be7-4131-f8e9-c437625ff5fc"
      },
      "execution_count": null,
      "outputs": [
        {
          "output_type": "stream",
          "name": "stdout",
          "text": [
            "0\n",
            "1\n",
            "2\n",
            "3\n",
            "4\n",
            "5\n",
            "6\n",
            "7\n",
            "8\n",
            "9\n",
            "45\n"
          ]
        }
      ]
    },
    {
      "cell_type": "code",
      "source": [
        "w = range(10)\n",
        "\n",
        "\n",
        "tot = 0\n",
        "for num in w:\n",
        "    print(num)\n",
        "    tot += num\n",
        "    print(tot)\n",
        "print(tot)"
      ],
      "metadata": {
        "colab": {
          "base_uri": "https://localhost:8080/"
        },
        "id": "WFSEYY_vJmFr",
        "outputId": "b89d86d8-d051-49c9-f6d5-c809c83a2b69"
      },
      "execution_count": null,
      "outputs": [
        {
          "output_type": "stream",
          "name": "stdout",
          "text": [
            "0\n",
            "0\n",
            "1\n",
            "1\n",
            "2\n",
            "3\n",
            "3\n",
            "6\n",
            "4\n",
            "10\n",
            "5\n",
            "15\n",
            "6\n",
            "21\n",
            "7\n",
            "28\n",
            "8\n",
            "36\n",
            "9\n",
            "45\n",
            "45\n"
          ]
        }
      ]
    },
    {
      "cell_type": "code",
      "source": [
        "w = range(10)\n",
        "\n",
        "tot = 0\n",
        "print(\"***** Before the For Loop ******\")\n",
        "for num in w:\n",
        "    print(\"***** A New Loop Iteration ******\")\n",
        "    print(\"Value of num:\", num)\n",
        "    tot += num\n",
        "    print(\"Value of tot:\", tot)\n",
        "print(\"***** End of For Loop *****\")\n",
        "print(\"Final total:\", tot)\n"
      ],
      "metadata": {
        "colab": {
          "base_uri": "https://localhost:8080/"
        },
        "id": "1DrnuZ8WJp1S",
        "outputId": "dab97147-1614-4ff5-d41e-f71c0179b231"
      },
      "execution_count": null,
      "outputs": [
        {
          "output_type": "stream",
          "name": "stdout",
          "text": [
            "***** Before the For Loop ******\n",
            "***** A New Loop Iteration ******\n",
            "Value of num: 0\n",
            "Value of tot: 0\n",
            "***** A New Loop Iteration ******\n",
            "Value of num: 1\n",
            "Value of tot: 1\n",
            "***** A New Loop Iteration ******\n",
            "Value of num: 2\n",
            "Value of tot: 3\n",
            "***** A New Loop Iteration ******\n",
            "Value of num: 3\n",
            "Value of tot: 6\n",
            "***** A New Loop Iteration ******\n",
            "Value of num: 4\n",
            "Value of tot: 10\n",
            "***** A New Loop Iteration ******\n",
            "Value of num: 5\n",
            "Value of tot: 15\n",
            "***** A New Loop Iteration ******\n",
            "Value of num: 6\n",
            "Value of tot: 21\n",
            "***** A New Loop Iteration ******\n",
            "Value of num: 7\n",
            "Value of tot: 28\n",
            "***** A New Loop Iteration ******\n",
            "Value of num: 8\n",
            "Value of tot: 36\n",
            "***** A New Loop Iteration ******\n",
            "Value of num: 9\n",
            "Value of tot: 45\n",
            "***** End of For Loop *****\n",
            "Final total: 45\n"
          ]
        }
      ]
    },
    {
      "cell_type": "code",
      "source": [
        "n = [\"word\", \"phrase\", 8, (\"beam\")]\n",
        "for item in n:\n",
        "    print(item)"
      ],
      "metadata": {
        "colab": {
          "base_uri": "https://localhost:8080/"
        },
        "id": "EIBb8UwkJuGc",
        "outputId": "f1b17673-8bbb-4f95-b0db-001589ec4190"
      },
      "execution_count": null,
      "outputs": [
        {
          "output_type": "stream",
          "name": "stdout",
          "text": [
            "word\n",
            "phrase\n",
            "8\n",
            "beam\n"
          ]
        }
      ]
    },
    {
      "cell_type": "code",
      "source": [
        "t = \"couch\"\n",
        "for z in t:\n",
        "    print(z)"
      ],
      "metadata": {
        "colab": {
          "base_uri": "https://localhost:8080/"
        },
        "id": "9hkYaveSKWOy",
        "outputId": "9a5a7172-0ec3-4cc9-e724-d5ad44b67ccc"
      },
      "execution_count": null,
      "outputs": [
        {
          "output_type": "stream",
          "name": "stdout",
          "text": [
            "c\n",
            "o\n",
            "u\n",
            "c\n",
            "h\n"
          ]
        }
      ]
    },
    {
      "cell_type": "code",
      "source": [
        "t = (\"couch\", \"chair\", \"washer\", \"dryer\", \"table\")\n",
        "for z in t:\n",
        "    print(z)"
      ],
      "metadata": {
        "colab": {
          "base_uri": "https://localhost:8080/"
        },
        "id": "VugrjtLKKZrf",
        "outputId": "4cf5404f-8a20-485a-b00a-220092367760"
      },
      "execution_count": null,
      "outputs": [
        {
          "output_type": "stream",
          "name": "stdout",
          "text": [
            "couch\n",
            "chair\n",
            "washer\n",
            "dryer\n",
            "table\n"
          ]
        }
      ]
    },
    {
      "cell_type": "code",
      "source": [
        "t = \"couch\"\n",
        "for z in t:\n",
        "    print(z)"
      ],
      "metadata": {
        "colab": {
          "base_uri": "https://localhost:8080/"
        },
        "id": "1UqILuusKhEh",
        "outputId": "9119af89-7fcf-4668-d667-66e67e2032cb"
      },
      "execution_count": null,
      "outputs": [
        {
          "output_type": "stream",
          "name": "stdout",
          "text": [
            "c\n",
            "o\n",
            "u\n",
            "c\n",
            "h\n"
          ]
        }
      ]
    },
    {
      "cell_type": "code",
      "source": [
        "t = [\"couch\", \"chair\", \"washer\", \"dryer\", \"table\"]\n",
        "for z in t:\n",
        "    print(z)"
      ],
      "metadata": {
        "colab": {
          "base_uri": "https://localhost:8080/"
        },
        "id": "CqKQ57qCKmvY",
        "outputId": "319cf7c8-ee52-4f9b-9700-43c48030e795"
      },
      "execution_count": null,
      "outputs": [
        {
          "output_type": "stream",
          "name": "stdout",
          "text": [
            "couch\n",
            "chair\n",
            "washer\n",
            "dryer\n",
            "table\n"
          ]
        }
      ]
    },
    {
      "cell_type": "code",
      "source": [
        "t = [9, \"setter\", 3, \"wing spiker\", 10, \"middle blocker\"]\n",
        "for z in t:\n",
        "    print(z, +  )"
      ],
      "metadata": {
        "colab": {
          "base_uri": "https://localhost:8080/"
        },
        "id": "0_qt9tqlKrEi",
        "outputId": "010a04f0-70aa-4674-9773-bad94bcb9a63"
      },
      "execution_count": null,
      "outputs": [
        {
          "output_type": "stream",
          "name": "stdout",
          "text": [
            "9 1\n",
            "setter 1\n",
            "3 1\n",
            "wing spiker 1\n",
            "10 1\n",
            "middle blocker 1\n"
          ]
        }
      ]
    },
    {
      "cell_type": "code",
      "source": [
        "t = [9, \"setter\", 3, \"wing spiker\", 10, \"middle blocker\"]\n",
        "for z in t:\n",
        "    print(z)"
      ],
      "metadata": {
        "colab": {
          "base_uri": "https://localhost:8080/"
        },
        "id": "Ds1fpIKTKsgZ",
        "outputId": "54bd123c-eb31-45a0-960f-a879fd774f25"
      },
      "execution_count": null,
      "outputs": [
        {
          "output_type": "stream",
          "name": "stdout",
          "text": [
            "9\n",
            "setter\n",
            "3\n",
            "wing spiker\n",
            "10\n",
            "middle blocker\n"
          ]
        }
      ]
    },
    {
      "cell_type": "code",
      "source": [
        "red = \"colors\"\n",
        "for blue in red:\n",
        "    print(blue)"
      ],
      "metadata": {
        "colab": {
          "base_uri": "https://localhost:8080/"
        },
        "id": "TsTKWlo0K-Ep",
        "outputId": "aab0a310-56d0-4ba7-be59-a913e6fe8455"
      },
      "execution_count": null,
      "outputs": [
        {
          "output_type": "stream",
          "name": "stdout",
          "text": [
            "c\n",
            "o\n",
            "l\n",
            "o\n",
            "r\n",
            "s\n"
          ]
        }
      ]
    },
    {
      "cell_type": "code",
      "source": [
        "for n in range(5):\n",
        "   print(n)\n"
      ],
      "metadata": {
        "colab": {
          "base_uri": "https://localhost:8080/"
        },
        "id": "XQ8PvRnhNHW3",
        "outputId": "abbbbb50-ef24-4fca-e69d-507b2f762315"
      },
      "execution_count": null,
      "outputs": [
        {
          "output_type": "stream",
          "name": "stdout",
          "text": [
            "0\n",
            "1\n",
            "2\n",
            "3\n",
            "4\n"
          ]
        }
      ]
    },
    {
      "cell_type": "code",
      "source": [
        ""
      ],
      "metadata": {
        "id": "anOPSL75mM9d"
      },
      "execution_count": null,
      "outputs": []
    },
    {
      "cell_type": "markdown",
      "source": [
        "A function that produces a list of numbers. For example, range(5), produces a list of five numbers, starting with 0, [0, 1, 2, 3, 4]."
      ],
      "metadata": {
        "id": "GIaHvWMANbr4"
      }
    },
    {
      "cell_type": "code",
      "source": [
        "prefixes = \"JKLMNOPQ\"\n",
        "suffix = \"ack\"\n",
        "\n",
        "for p in prefixes:\n",
        "    print(p + suffix)"
      ],
      "metadata": {
        "colab": {
          "base_uri": "https://localhost:8080/"
        },
        "id": "LtV36GuENa5I",
        "outputId": "b445c0d9-0b3c-4b86-8566-8526e519a097"
      },
      "execution_count": null,
      "outputs": [
        {
          "output_type": "stream",
          "name": "stdout",
          "text": [
            "Jack\n",
            "Kack\n",
            "Lack\n",
            "Mack\n",
            "Nack\n",
            "Oack\n",
            "Pack\n",
            "Qack\n"
          ]
        }
      ]
    },
    {
      "cell_type": "code",
      "source": [
        "a= 10\n",
        "b= 20\n",
        "c=30"
      ],
      "metadata": {
        "id": "UK5h90WDZN6H"
      },
      "execution_count": null,
      "outputs": []
    },
    {
      "cell_type": "code",
      "source": [
        "if(a>b):\n",
        "  print(\"a is gretar ten\")\n",
        "elif(b>a):\n",
        "  print(\"b is greter then\")"
      ],
      "metadata": {
        "colab": {
          "base_uri": "https://localhost:8080/"
        },
        "id": "VzISG1SzZ7J0",
        "outputId": "ad5d1bf6-eea9-46f7-e81b-0ed6da0e8601"
      },
      "execution_count": null,
      "outputs": [
        {
          "output_type": "stream",
          "name": "stdout",
          "text": [
            "b is greter then\n"
          ]
        }
      ]
    },
    {
      "cell_type": "code",
      "source": [
        "t=('a','b','c')"
      ],
      "metadata": {
        "id": "dtB3yNznbNiF"
      },
      "execution_count": null,
      "outputs": []
    },
    {
      "cell_type": "code",
      "source": [
        "if "
      ],
      "metadata": {
        "id": "ZFj__hk2cI50"
      },
      "execution_count": null,
      "outputs": []
    }
  ]
}